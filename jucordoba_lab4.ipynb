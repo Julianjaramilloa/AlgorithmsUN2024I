{
  "cells": [
    {
      "cell_type": "markdown",
      "metadata": {
        "id": "view-in-github",
        "colab_type": "text"
      },
      "source": [
        "<a href=\"https://colab.research.google.com/github/Julianjaramilloa/AlgorithmsUN2024I/blob/main/jucordoba_lab4.ipynb\" target=\"_parent\"><img src=\"https://colab.research.google.com/assets/colab-badge.svg\" alt=\"Open In Colab\"/></a>"
      ]
    },
    {
      "cell_type": "code",
      "execution_count": 83,
      "metadata": {
        "colab": {
          "base_uri": "https://localhost:8080/"
        },
        "id": "im-VVd1__7VU",
        "outputId": "470fa785-aabe-4ae8-aac2-53f769e3f399"
      },
      "outputs": [
        {
          "output_type": "stream",
          "name": "stdout",
          "text": [
            "processor\t: 0\n",
            "vendor_id\t: GenuineIntel\n",
            "cpu family\t: 6\n",
            "model\t\t: 79\n",
            "model name\t: Intel(R) Xeon(R) CPU @ 2.20GHz\n",
            "stepping\t: 0\n",
            "microcode\t: 0xffffffff\n",
            "cpu MHz\t\t: 2200.204\n",
            "cache size\t: 56320 KB\n",
            "physical id\t: 0\n",
            "siblings\t: 2\n",
            "core id\t\t: 0\n",
            "cpu cores\t: 1\n",
            "apicid\t\t: 0\n",
            "initial apicid\t: 0\n",
            "fpu\t\t: yes\n",
            "fpu_exception\t: yes\n",
            "cpuid level\t: 13\n",
            "wp\t\t: yes\n",
            "flags\t\t: fpu vme de pse tsc msr pae mce cx8 apic sep mtrr pge mca cmov pat pse36 clflush mmx fxsr sse sse2 ss ht syscall nx pdpe1gb rdtscp lm constant_tsc rep_good nopl xtopology nonstop_tsc cpuid tsc_known_freq pni pclmulqdq ssse3 fma cx16 pcid sse4_1 sse4_2 x2apic movbe popcnt aes xsave avx f16c rdrand hypervisor lahf_lm abm 3dnowprefetch invpcid_single ssbd ibrs ibpb stibp fsgsbase tsc_adjust bmi1 hle avx2 smep bmi2 erms invpcid rtm rdseed adx smap xsaveopt arat md_clear arch_capabilities\n",
            "bugs\t\t: cpu_meltdown spectre_v1 spectre_v2 spec_store_bypass l1tf mds swapgs taa mmio_stale_data retbleed\n",
            "bogomips\t: 4400.40\n",
            "clflush size\t: 64\n",
            "cache_alignment\t: 64\n",
            "address sizes\t: 46 bits physical, 48 bits virtual\n",
            "power management:\n",
            "\n",
            "processor\t: 1\n",
            "vendor_id\t: GenuineIntel\n",
            "cpu family\t: 6\n",
            "model\t\t: 79\n",
            "model name\t: Intel(R) Xeon(R) CPU @ 2.20GHz\n",
            "stepping\t: 0\n",
            "microcode\t: 0xffffffff\n",
            "cpu MHz\t\t: 2200.204\n",
            "cache size\t: 56320 KB\n",
            "physical id\t: 0\n",
            "siblings\t: 2\n",
            "core id\t\t: 0\n",
            "cpu cores\t: 1\n",
            "apicid\t\t: 1\n",
            "initial apicid\t: 1\n",
            "fpu\t\t: yes\n",
            "fpu_exception\t: yes\n",
            "cpuid level\t: 13\n",
            "wp\t\t: yes\n",
            "flags\t\t: fpu vme de pse tsc msr pae mce cx8 apic sep mtrr pge mca cmov pat pse36 clflush mmx fxsr sse sse2 ss ht syscall nx pdpe1gb rdtscp lm constant_tsc rep_good nopl xtopology nonstop_tsc cpuid tsc_known_freq pni pclmulqdq ssse3 fma cx16 pcid sse4_1 sse4_2 x2apic movbe popcnt aes xsave avx f16c rdrand hypervisor lahf_lm abm 3dnowprefetch invpcid_single ssbd ibrs ibpb stibp fsgsbase tsc_adjust bmi1 hle avx2 smep bmi2 erms invpcid rtm rdseed adx smap xsaveopt arat md_clear arch_capabilities\n",
            "bugs\t\t: cpu_meltdown spectre_v1 spectre_v2 spec_store_bypass l1tf mds swapgs taa mmio_stale_data retbleed\n",
            "bogomips\t: 4400.40\n",
            "clflush size\t: 64\n",
            "cache_alignment\t: 64\n",
            "address sizes\t: 46 bits physical, 48 bits virtual\n",
            "power management:\n",
            "\n"
          ]
        }
      ],
      "source": [
        "!cat /proc/cpuinfo"
      ]
    },
    {
      "cell_type": "markdown",
      "metadata": {
        "id": "N1ok_-56OjB1"
      },
      "source": [
        "# I Solving the Sum of Two Digits Programming Challenge"
      ]
    },
    {
      "cell_type": "markdown",
      "metadata": {
        "id": "MMY7kmDSO0KM"
      },
      "source": [
        "## C++"
      ]
    },
    {
      "cell_type": "code",
      "execution_count": 84,
      "metadata": {
        "colab": {
          "base_uri": "https://localhost:8080/"
        },
        "id": "2pGGf9BkPNIk",
        "outputId": "3d3e9104-f67c-4a4c-c110-cf0b60bf1f0c"
      },
      "outputs": [
        {
          "output_type": "stream",
          "name": "stdout",
          "text": [
            "Overwriting APlusB.cpp\n"
          ]
        }
      ],
      "source": [
        "%%writefile APlusB.cpp\n",
        "#include <iostream>\n",
        "\n",
        "int sum_of_two_digits(int first_digit, int second_digit) {\n",
        "    return first_digit + second_digit;\n",
        "}\n",
        "\n",
        "int main() {\n",
        "    int a = 0;\n",
        "    int b = 0;\n",
        "    std::cin >> a;\n",
        "    std::cin >> b;\n",
        "    std::cout << sum_of_two_digits(a, b);\n",
        "    return 0;\n",
        "}"
      ]
    },
    {
      "cell_type": "code",
      "execution_count": 85,
      "metadata": {
        "colab": {
          "base_uri": "https://localhost:8080/"
        },
        "id": "0G3ZKOYAPXSU",
        "outputId": "e0efc0b9-ae71-4890-9850-f36c5ea61214"
      },
      "outputs": [
        {
          "output_type": "stream",
          "name": "stdout",
          "text": [
            "9"
          ]
        }
      ],
      "source": [
        "!g++ APlusB.cpp -o APlusB -std=c++11\n",
        "!echo \"4 5\" | ./APlusB"
      ]
    },
    {
      "cell_type": "markdown",
      "metadata": {
        "id": "iNkG2HqfTl9c"
      },
      "source": [
        "### Test input output files"
      ]
    },
    {
      "cell_type": "code",
      "execution_count": 86,
      "metadata": {
        "colab": {
          "base_uri": "https://localhost:8080/"
        },
        "id": "aTzU2efzMxly",
        "outputId": "198a899f-7109-406b-d3a0-0da5f28f3e57"
      },
      "outputs": [
        {
          "output_type": "stream",
          "name": "stdout",
          "text": [
            "Overwriting input1.txt\n"
          ]
        }
      ],
      "source": [
        "%%writefile input1.txt\n",
        "4 8"
      ]
    },
    {
      "cell_type": "code",
      "execution_count": 87,
      "metadata": {
        "colab": {
          "base_uri": "https://localhost:8080/"
        },
        "id": "zBJ0Gc0NQRet",
        "outputId": "7d8d9468-d1ba-42a8-a18b-874856334288"
      },
      "outputs": [
        {
          "output_type": "stream",
          "name": "stdout",
          "text": [
            "Overwriting output1.txt\n"
          ]
        }
      ],
      "source": [
        "%%writefile output1.txt\n",
        "12"
      ]
    },
    {
      "cell_type": "code",
      "execution_count": 88,
      "metadata": {
        "colab": {
          "base_uri": "https://localhost:8080/"
        },
        "id": "IjEcIx63PJAN",
        "outputId": "bd4216ee-a7a7-46ae-c9a6-e792746d571a"
      },
      "outputs": [
        {
          "output_type": "stream",
          "name": "stdout",
          "text": [
            "Overwriting input2.txt\n"
          ]
        }
      ],
      "source": [
        "%%writefile input2.txt\n",
        "0 9"
      ]
    },
    {
      "cell_type": "code",
      "execution_count": 89,
      "metadata": {
        "colab": {
          "base_uri": "https://localhost:8080/"
        },
        "id": "Up9gOrxURTmd",
        "outputId": "ec17f96e-79dc-42a9-b8a8-c0855c12c3e8"
      },
      "outputs": [
        {
          "output_type": "stream",
          "name": "stdout",
          "text": [
            "Overwriting output2.txt\n"
          ]
        }
      ],
      "source": [
        "%%writefile output2.txt\n",
        "9"
      ]
    },
    {
      "cell_type": "code",
      "execution_count": 90,
      "metadata": {
        "colab": {
          "base_uri": "https://localhost:8080/"
        },
        "id": "PST6G-s-Pwgc",
        "outputId": "178e894e-1974-45e5-abbe-1cd61abec10d"
      },
      "outputs": [
        {
          "output_type": "stream",
          "name": "stdout",
          "text": [
            "12"
          ]
        }
      ],
      "source": [
        "!./APlusB < input1.txt"
      ]
    },
    {
      "cell_type": "code",
      "execution_count": 91,
      "metadata": {
        "colab": {
          "base_uri": "https://localhost:8080/"
        },
        "id": "cKxZOjSlRfIN",
        "outputId": "3fa672db-f754-4d05-ab49-81824a4b9759"
      },
      "outputs": [
        {
          "output_type": "stream",
          "name": "stdout",
          "text": [
            "9"
          ]
        }
      ],
      "source": [
        "!./APlusB < input2.txt"
      ]
    },
    {
      "cell_type": "markdown",
      "metadata": {
        "id": "Qw2TQWCCUwqk"
      },
      "source": [
        "### Comparing files with grep\n",
        "\n",
        "https://askubuntu.com/questions/546796/comparing-two-text-files"
      ]
    },
    {
      "cell_type": "code",
      "execution_count": 92,
      "metadata": {
        "id": "WVIaAmMKU4QM"
      },
      "outputs": [],
      "source": [
        "!grep -xvFf output1.txt output1.txt"
      ]
    },
    {
      "cell_type": "code",
      "execution_count": 93,
      "metadata": {
        "colab": {
          "base_uri": "https://localhost:8080/"
        },
        "id": "MQU8gPPjQuYO",
        "outputId": "801c917a-3732-48e2-e88d-c789b4dd8279"
      },
      "outputs": [
        {
          "output_type": "stream",
          "name": "stdout",
          "text": [
            "9\n"
          ]
        }
      ],
      "source": [
        "!grep -xvFf output1.txt output2.txt"
      ]
    },
    {
      "cell_type": "code",
      "execution_count": 94,
      "metadata": {
        "colab": {
          "base_uri": "https://localhost:8080/"
        },
        "id": "jYL9OuYBTD_l",
        "outputId": "3dcaad7b-0d21-4f96-97d0-d90cbe6e4dfc"
      },
      "outputs": [
        {
          "output_type": "stream",
          "name": "stdout",
          "text": [
            "12\n"
          ]
        }
      ],
      "source": [
        "!grep -xvFf output2.txt output1.txt"
      ]
    },
    {
      "cell_type": "code",
      "execution_count": 95,
      "metadata": {
        "id": "Jlja0Xm4TX9M"
      },
      "outputs": [],
      "source": [
        "!./APlusB < input1.txt> ctest1.txt\n",
        "!grep -xvFf output1.txt ctest1.txt"
      ]
    },
    {
      "cell_type": "code",
      "execution_count": 96,
      "metadata": {
        "id": "g9OIUZA_QLCQ"
      },
      "outputs": [],
      "source": [
        "!./APlusB < input2.txt > ctest2.txt\n",
        "!grep -xvFf output2.txt ctest2.txt"
      ]
    },
    {
      "cell_type": "markdown",
      "metadata": {
        "id": "3BgOaDjUVJk6"
      },
      "source": [
        "## Python"
      ]
    },
    {
      "cell_type": "code",
      "execution_count": 97,
      "metadata": {
        "colab": {
          "base_uri": "https://localhost:8080/"
        },
        "id": "DBvl-T0CTN_8",
        "outputId": "bca477bd-31ca-4b47-e138-7079f83ad154"
      },
      "outputs": [
        {
          "output_type": "stream",
          "name": "stdout",
          "text": [
            "Overwriting sum.py\n"
          ]
        }
      ],
      "source": [
        "%%writefile sum.py\n",
        "# python3\n",
        "\n",
        "def sum_of_two_digits(first_digit, second_digit):\n",
        "    return first_digit + second_digit\n",
        "\n",
        "if __name__ == '__main__':\n",
        "    a, b = map(int, input().split())\n",
        "    print(sum_of_two_digits(a, b))"
      ]
    },
    {
      "cell_type": "code",
      "execution_count": 98,
      "metadata": {
        "colab": {
          "base_uri": "https://localhost:8080/"
        },
        "id": "QKoKM11_WGyF",
        "outputId": "c070005d-1d8e-4709-f030-8af4a283247b"
      },
      "outputs": [
        {
          "output_type": "stream",
          "name": "stdout",
          "text": [
            "100\n"
          ]
        }
      ],
      "source": [
        "!echo \"90 10\" | python sum.py\n"
      ]
    },
    {
      "cell_type": "code",
      "execution_count": 99,
      "metadata": {
        "id": "cocFbPRTWrqt"
      },
      "outputs": [],
      "source": [
        "!python sum.py  < input1.txt> ptest1.txt\n",
        "!grep -xvFf output1.txt ptest1.txt"
      ]
    },
    {
      "cell_type": "code",
      "execution_count": 100,
      "metadata": {
        "id": "MorKTa-XXASN"
      },
      "outputs": [],
      "source": [
        "!python sum.py  < input2.txt> ptest2.txt\n",
        "!grep -xvFf output2.txt ptest2.txt"
      ]
    },
    {
      "cell_type": "markdown",
      "metadata": {
        "id": "uvP-mOubW_5F"
      },
      "source": [
        "# II Solving The Maximum Pairwise Product Programming Challenge in C++"
      ]
    },
    {
      "cell_type": "markdown",
      "metadata": {
        "id": "C12yoFR6Xonl"
      },
      "source": [
        "## C++"
      ]
    },
    {
      "cell_type": "code",
      "execution_count": 101,
      "metadata": {
        "colab": {
          "base_uri": "https://localhost:8080/"
        },
        "id": "3LpfoGv2Ae81",
        "outputId": "698d1c99-8a08-4c90-bd38-3bc43747f7e3"
      },
      "outputs": [
        {
          "output_type": "stream",
          "name": "stdout",
          "text": [
            "Overwriting max_pairwise_product_full.cpp\n"
          ]
        }
      ],
      "source": [
        "%%writefile max_pairwise_product_full.cpp\n",
        "#include <iostream>\n",
        "#include <vector>\n",
        "#include <algorithm>\n",
        "\n",
        "int MaxPairwiseProduct(const std::vector<int>& numbers) {\n",
        "    int max_product = 0;\n",
        "    int aux_product = 0;\n",
        "    int n = numbers.size();\n",
        "\n",
        "    for (int first = 0; first < n; ++first) {\n",
        "        for (int second = 0; second < n; ++second) {\n",
        "          if ( first != second ){\n",
        "                aux_product = numbers[first] * numbers[second];\n",
        "                if (aux_product > max_product)  max_product = aux_product;\n",
        "          }\n",
        "        }\n",
        "    }\n",
        "\n",
        "    return max_product;\n",
        "}\n",
        "\n",
        "int main() {\n",
        "    int n;\n",
        "    std::cin >> n;\n",
        "    std::vector<int> numbers(n);\n",
        "    for (int i = 0; i < n; ++i) {\n",
        "        std::cin >> numbers[i];\n",
        "    }\n",
        "\n",
        "    std::cout << MaxPairwiseProduct(numbers) << \"\\n\";\n",
        "    return 0;\n",
        "}"
      ]
    },
    {
      "cell_type": "code",
      "execution_count": 102,
      "metadata": {
        "colab": {
          "base_uri": "https://localhost:8080/"
        },
        "id": "PCVo1h6nCF9k",
        "outputId": "5b9f6e57-41ac-40ae-ec79-39d362cea76d"
      },
      "outputs": [
        {
          "output_type": "stream",
          "name": "stdout",
          "text": [
            "11445\n"
          ]
        }
      ],
      "source": [
        "!g++ max_pairwise_product_full.cpp -o max_pairwise_product_full\n",
        "!echo -e \"2\\n21 545\"|./max_pairwise_product_full\n"
      ]
    },
    {
      "cell_type": "markdown",
      "metadata": {
        "id": "m75IQQPbEHBS"
      },
      "source": [
        "$$n^2 \\ \\text{first != second  comparisons},  n^2 - n \\ \\ \\text{numbers[first] * numbers[second] products},  O(n^2)$$"
      ]
    },
    {
      "cell_type": "markdown",
      "metadata": {
        "id": "e7KhxHGNS3i0"
      },
      "source": [
        "### Test 1: Small numbers"
      ]
    },
    {
      "cell_type": "code",
      "execution_count": 103,
      "metadata": {
        "colab": {
          "base_uri": "https://localhost:8080/"
        },
        "id": "e1mmTzBgShT-",
        "outputId": "f3fe95e9-0035-45c1-9892-447cdecb039f"
      },
      "outputs": [
        {
          "output_type": "stream",
          "name": "stdout",
          "text": [
            "Overwriting input1.txt\n"
          ]
        }
      ],
      "source": [
        "%%writefile input1.txt\n",
        "10\n",
        "1 2 3 4 5 6 7 8 9 10"
      ]
    },
    {
      "cell_type": "code",
      "execution_count": 104,
      "metadata": {
        "colab": {
          "base_uri": "https://localhost:8080/"
        },
        "id": "vy_uI0x7TCId",
        "outputId": "b2dddf56-1784-45a1-9e6f-f1a243de2450"
      },
      "outputs": [
        {
          "output_type": "stream",
          "name": "stdout",
          "text": [
            "90\n"
          ]
        }
      ],
      "source": [
        "!./max_pairwise_product_full < input1.txt"
      ]
    },
    {
      "cell_type": "code",
      "execution_count": 105,
      "metadata": {
        "colab": {
          "base_uri": "https://localhost:8080/"
        },
        "id": "xaj6f9bxC6D6",
        "outputId": "e99808ec-6cdf-4160-8073-a52c189aaafd"
      },
      "outputs": [
        {
          "output_type": "stream",
          "name": "stdout",
          "text": [
            "Overwriting output1.txt\n"
          ]
        }
      ],
      "source": [
        "%%writefile output1.txt\n",
        "90"
      ]
    },
    {
      "cell_type": "code",
      "execution_count": 106,
      "metadata": {
        "id": "fYCjAdA_C-wy"
      },
      "outputs": [],
      "source": [
        "!./max_pairwise_product_full< input1.txt > ctest1.txt\n",
        "!grep -xvFf output1.txt ctest1.txt"
      ]
    },
    {
      "cell_type": "code",
      "execution_count": 107,
      "metadata": {
        "colab": {
          "base_uri": "https://localhost:8080/"
        },
        "id": "ZPe40LY14_6f",
        "outputId": "b1613ebf-5654-4bb4-a1c1-28d91b2a029c"
      },
      "outputs": [
        {
          "output_type": "stream",
          "name": "stdout",
          "text": [
            "Overwriting input2.txt\n"
          ]
        }
      ],
      "source": [
        "%%writefile input2.txt\n",
        "10\n",
        "10 9 8 7 6 5 4 3 2 1"
      ]
    },
    {
      "cell_type": "code",
      "execution_count": 108,
      "metadata": {
        "colab": {
          "base_uri": "https://localhost:8080/"
        },
        "id": "xiHmF7HA5Faa",
        "outputId": "ab74fcc6-da8d-4573-cb43-ad7b5e4dd083"
      },
      "outputs": [
        {
          "output_type": "stream",
          "name": "stdout",
          "text": [
            "Overwriting output2.txt\n"
          ]
        }
      ],
      "source": [
        "%%writefile output2.txt\n",
        "90"
      ]
    },
    {
      "cell_type": "code",
      "execution_count": 109,
      "metadata": {
        "id": "jjwc9kwb5t_k"
      },
      "outputs": [],
      "source": [
        "!./max_pairwise_product_full< input2.txt > ctest2.txt\n",
        "!grep -xvFf output2.txt ctest2.txt"
      ]
    },
    {
      "cell_type": "markdown",
      "metadata": {
        "id": "IeZ3kTjpYmR9"
      },
      "source": [
        "### Test 2: largest input numbers 200000 200000 in the input"
      ]
    },
    {
      "cell_type": "code",
      "execution_count": 110,
      "metadata": {
        "colab": {
          "base_uri": "https://localhost:8080/"
        },
        "id": "LQNlZqaqYt7U",
        "outputId": "99e8be11-067f-4f07-84dc-999eff214ec8"
      },
      "outputs": [
        {
          "output_type": "stream",
          "name": "stdout",
          "text": [
            "Overwriting input3.txt\n"
          ]
        }
      ],
      "source": [
        "%%writefile input3.txt\n",
        "6\n",
        "1 3 200000 9 200000 23"
      ]
    },
    {
      "cell_type": "code",
      "execution_count": 111,
      "metadata": {
        "colab": {
          "base_uri": "https://localhost:8080/"
        },
        "id": "GjQq7QOUCw-9",
        "outputId": "e5813e2b-c3b0-4392-bb49-eb0e03aeebc3"
      },
      "outputs": [
        {
          "output_type": "execute_result",
          "data": {
            "text/plain": [
              "40000000000"
            ]
          },
          "metadata": {},
          "execution_count": 111
        }
      ],
      "source": [
        "200000*200000"
      ]
    },
    {
      "cell_type": "code",
      "execution_count": 112,
      "metadata": {
        "colab": {
          "base_uri": "https://localhost:8080/"
        },
        "id": "EuS6n3jtDK5C",
        "outputId": "3ba3b94d-cc57-4ed9-9d72-101eff842b73"
      },
      "outputs": [
        {
          "output_type": "stream",
          "name": "stdout",
          "text": [
            "Overwriting output3.txt\n"
          ]
        }
      ],
      "source": [
        "%%writefile output3.txt\n",
        "40000000000"
      ]
    },
    {
      "cell_type": "code",
      "execution_count": 113,
      "metadata": {
        "colab": {
          "base_uri": "https://localhost:8080/"
        },
        "id": "2Wad2VZUZDxR",
        "outputId": "2d57e58c-6707-413c-e419-443a936c78ba"
      },
      "outputs": [
        {
          "output_type": "stream",
          "name": "stdout",
          "text": [
            "1345294336\n"
          ]
        }
      ],
      "source": [
        "!./max_pairwise_product_full < input3.txt"
      ]
    },
    {
      "cell_type": "code",
      "execution_count": 114,
      "metadata": {
        "colab": {
          "base_uri": "https://localhost:8080/"
        },
        "id": "pEvp1ieyDJGq",
        "outputId": "885d215e-bb50-4e59-e9ec-ab4f9eb5f697"
      },
      "outputs": [
        {
          "output_type": "stream",
          "name": "stdout",
          "text": [
            "1345294336\n"
          ]
        }
      ],
      "source": [
        "!./max_pairwise_product_full < input3.txt > ctest3.txt\n",
        "!grep -xvFf output3.txt ctest3.txt"
      ]
    },
    {
      "cell_type": "code",
      "execution_count": 115,
      "metadata": {
        "colab": {
          "base_uri": "https://localhost:8080/"
        },
        "id": "SrtJrKqM-God",
        "outputId": "433ca6d3-bfa1-407c-ac9d-f592d90de26b"
      },
      "outputs": [
        {
          "output_type": "stream",
          "name": "stdout",
          "text": [
            "Overwriting run_all_test.sh\n"
          ]
        }
      ],
      "source": [
        " %%writefile run_all_test.sh\n",
        "#!/bin/bash\n",
        "g++ max_pairwise_product_full.cpp -o max_pairwise_product_full\n",
        "for i in {1..3}\n",
        "do\n",
        "    ./max_pairwise_product_full < input$i.txt > ctest$i.txt\n",
        "    grep -xvFf output$i.txt ctest$i.txt\n",
        "done"
      ]
    },
    {
      "cell_type": "code",
      "execution_count": 116,
      "metadata": {
        "colab": {
          "base_uri": "https://localhost:8080/"
        },
        "id": "wGWMHtzS-QnA",
        "outputId": "7c20cbb6-eea3-4c19-8cb7-6f1e9dffc03e"
      },
      "outputs": [
        {
          "output_type": "stream",
          "name": "stdout",
          "text": [
            "1345294336\n"
          ]
        }
      ],
      "source": [
        "!chmod u+x run_all_test.sh\n",
        "!./run_all_test.sh"
      ]
    },
    {
      "cell_type": "markdown",
      "metadata": {
        "id": "H2SC0Qt5HCzz"
      },
      "source": [
        "Changing the variables to long long"
      ]
    },
    {
      "cell_type": "code",
      "execution_count": 117,
      "metadata": {
        "colab": {
          "base_uri": "https://localhost:8080/"
        },
        "id": "MPcmsxiQZSfE",
        "outputId": "84f77d0b-c807-4f04-d9ac-2ada74ab22cd"
      },
      "outputs": [
        {
          "output_type": "stream",
          "name": "stdout",
          "text": [
            "Overwriting max_pairwise_product_long_full.cpp\n"
          ]
        }
      ],
      "source": [
        "%%writefile max_pairwise_product_long_full.cpp\n",
        "#include <iostream>\n",
        "#include <vector>\n",
        "#include <algorithm>\n",
        "\n",
        "long long MaxPairwiseProduct(const std::vector<long long>& numbers) {\n",
        "    long long max_product = 0LL;\n",
        "\t  long long aux_product = 0LL;\n",
        "    int n = numbers.size();\n",
        "\n",
        "    for (int first = 0; first < n; ++first) {\n",
        "        for (int second = 0; second < n; ++second) {\n",
        "          if ( first != second){\n",
        "                aux_product = (long long) numbers[first] * numbers[second];\n",
        "                if (aux_product > max_product)  max_product = aux_product;\n",
        "          }\n",
        "        }\n",
        "    }\n",
        "\n",
        "\n",
        "    return max_product;\n",
        "}\n",
        "\n",
        "int main() {\n",
        "    int n;\n",
        "    std::cin >> n;\n",
        "    std::vector<long long> numbers(n);\n",
        "    for (int i = 0; i < n; ++i) {\n",
        "        std::cin >> numbers[i];\n",
        "    }\n",
        "\n",
        "    std::cout << MaxPairwiseProduct(numbers) << \"\\n\";\n",
        "    return 0;\n",
        "}\n"
      ]
    },
    {
      "cell_type": "code",
      "execution_count": 118,
      "metadata": {
        "id": "W3xQpFXL6wjO"
      },
      "outputs": [],
      "source": [
        "!g++ max_pairwise_product_long_full.cpp -o max_pairwise_product_long_full"
      ]
    },
    {
      "cell_type": "code",
      "execution_count": 119,
      "metadata": {
        "colab": {
          "base_uri": "https://localhost:8080/"
        },
        "id": "H5dvN9M3R9sV",
        "outputId": "1cd9302e-ce55-4c68-8fff-73883a401d38"
      },
      "outputs": [
        {
          "output_type": "stream",
          "name": "stdout",
          "text": [
            "40000000000\n"
          ]
        }
      ],
      "source": [
        "!./max_pairwise_product_long_full < input3.txt"
      ]
    },
    {
      "cell_type": "markdown",
      "metadata": {
        "id": "gx-sEYdfQ8f8"
      },
      "source": [
        "### Runing multuple test with a bash shell"
      ]
    },
    {
      "cell_type": "code",
      "execution_count": 120,
      "metadata": {
        "colab": {
          "base_uri": "https://localhost:8080/"
        },
        "id": "O9qsq2nn7elw",
        "outputId": "e006056a-b14f-4278-eb29-42bda1c7dfd5"
      },
      "outputs": [
        {
          "output_type": "stream",
          "name": "stdout",
          "text": [
            "Overwriting run_all_test.sh\n"
          ]
        }
      ],
      "source": [
        " %%writefile run_all_test.sh\n",
        "#!/bin/bash\n",
        "g++ max_pairwise_product_long_full.cpp -o max_pairwise_product_long_full\n",
        "for i in {1..3}\n",
        "do\n",
        "    ./max_pairwise_product_long_full < input$i.txt > ctest$i.txt\n",
        "    grep -xvFf output$i.txt ctest$i.txt\n",
        "done"
      ]
    },
    {
      "cell_type": "code",
      "execution_count": 121,
      "metadata": {
        "id": "0g5kKVph7xIA"
      },
      "outputs": [],
      "source": [
        "!chmod u+x run_all_test.sh\n",
        "!./run_all_test.sh"
      ]
    },
    {
      "cell_type": "markdown",
      "metadata": {
        "id": "XPVHkHxH6_7s"
      },
      "source": [
        "### Test 3  stress tests 6 testing cases files input4.txt/output4.txt .. input10.txt/output10.txt\n",
        "\n",
        "---\n",
        "\n"
      ]
    },
    {
      "cell_type": "code",
      "execution_count": 122,
      "metadata": {
        "colab": {
          "base_uri": "https://localhost:8080/"
        },
        "id": "PwqpBmYr69fu",
        "outputId": "ca2216e0-e22b-48b0-a72d-3aa0d0d90afc"
      },
      "outputs": [
        {
          "output_type": "stream",
          "name": "stdout",
          "text": [
            "Overwriting input4.txt\n"
          ]
        }
      ],
      "source": [
        "%%writefile input4.txt\n",
        "7\n",
        "5 12 100000 19 17 200000 23"
      ]
    },
    {
      "cell_type": "code",
      "execution_count": 123,
      "metadata": {
        "colab": {
          "base_uri": "https://localhost:8080/"
        },
        "id": "jBCkMeR6Fw4y",
        "outputId": "56c43837-05bf-48fa-de2c-c95b2506d5a9"
      },
      "outputs": [
        {
          "output_type": "stream",
          "name": "stdout",
          "text": [
            "Overwriting output4.txt\n"
          ]
        }
      ],
      "source": [
        "%%writefile output4.txt\n",
        "20000000000"
      ]
    },
    {
      "cell_type": "code",
      "execution_count": 124,
      "metadata": {
        "colab": {
          "base_uri": "https://localhost:8080/"
        },
        "id": "vPrdE3V2lRWJ",
        "outputId": "73a9df45-5742-4166-ad49-a5cdb86441f2"
      },
      "outputs": [
        {
          "output_type": "stream",
          "name": "stdout",
          "text": [
            "Overwriting run_all_test.sh\n"
          ]
        }
      ],
      "source": [
        " %%writefile run_all_test.sh\n",
        "#!/bin/bash\n",
        "g++ max_pairwise_product_long_full.cpp -o max_pairwise_product_long_full\n",
        "for i in {1..4}\n",
        "do\n",
        "    ./max_pairwise_product_long_full < input$i.txt > ctest$i.txt\n",
        "    grep -xvFf output$i.txt ctest$i.txt\n",
        "done"
      ]
    },
    {
      "cell_type": "code",
      "execution_count": 125,
      "metadata": {
        "id": "U6vsY1lQlV6i"
      },
      "outputs": [],
      "source": [
        "!chmod u+x run_all_test.sh\n",
        "!./run_all_test.sh"
      ]
    },
    {
      "cell_type": "markdown",
      "metadata": {
        "id": "LqBme98V7J_Y"
      },
      "source": [
        "For testing the the result:"
      ]
    },
    {
      "cell_type": "code",
      "execution_count": 126,
      "metadata": {
        "colab": {
          "base_uri": "https://localhost:8080/"
        },
        "id": "vor8AHPg6IBB",
        "outputId": "2b8b1a8a-9a1a-4dd0-85aa-d7574d4acb54"
      },
      "outputs": [
        {
          "output_type": "stream",
          "name": "stdout",
          "text": [
            "Files are identical.\n"
          ]
        }
      ],
      "source": [
        "%%bash\n",
        "if diff -y output4.txt ctest4.txt > /dev/null; then\n",
        "  echo \"Files are identical.\"\n",
        "else\n",
        "  echo \"Error: Files are different.\"\n",
        "fi"
      ]
    },
    {
      "cell_type": "code",
      "execution_count": 127,
      "metadata": {
        "colab": {
          "base_uri": "https://localhost:8080/"
        },
        "id": "Wj0x4kGX_LUH",
        "outputId": "da617baa-4806-4473-f5d2-c31cdae6d6f0"
      },
      "outputs": [
        {
          "output_type": "stream",
          "name": "stdout",
          "text": [
            "Overwriting master_input.txt\n"
          ]
        }
      ],
      "source": [
        "%%writefile master_input.txt\n",
        "3\n",
        "34567 87654 12938\n",
        "4\n",
        "98632 43219 58743 23018\n",
        "5\n",
        "54236 12789 63421 78934 12864\n",
        "4\n",
        "15489 98543 31654 47321\n",
        "3\n",
        "25678 78392 34892\n",
        "2\n",
        "91537 28916\n",
        "5\n",
        "15378 85294 47126 23985 62341\n",
        "3\n",
        "78942 31569 67231\n",
        "4\n",
        "34671 12895 89653 65432\n",
        "3\n",
        "49751 34821 67295"
      ]
    },
    {
      "cell_type": "code",
      "execution_count": 128,
      "metadata": {
        "colab": {
          "base_uri": "https://localhost:8080/"
        },
        "id": "EBoF1gpg_W_W",
        "outputId": "331fae08-459b-46e8-ff36-2666ddef95bc"
      },
      "outputs": [
        {
          "output_type": "stream",
          "name": "stdout",
          "text": [
            "Overwriting master_output.txt\n"
          ]
        }
      ],
      "source": [
        "%%writefile master_output.txt\n",
        "3029935818\n",
        "5793939576\n",
        "5006073214\n",
        "4663153303\n",
        "2735253664\n",
        "2646883892\n",
        "5317313254\n",
        "5307349602\n",
        "5866175096\n",
        "3347993545"
      ]
    },
    {
      "cell_type": "code",
      "execution_count": 129,
      "metadata": {
        "colab": {
          "base_uri": "https://localhost:8080/"
        },
        "id": "uh4ROvQu_kCu",
        "outputId": "9871f175-9cfb-422b-a56c-01f6b98da990"
      },
      "outputs": [
        {
          "output_type": "stream",
          "name": "stdout",
          "text": [
            "Overwriting run_all_master_test.sh\n"
          ]
        }
      ],
      "source": [
        "%%writefile run_all_master_test.sh\n",
        "#!/bin/bash\n",
        "\n",
        "# Compile the C++ program\n",
        "g++ max_pairwise_product_long_full.cpp -o max_pairwise_product_long_full\n",
        "\n",
        "> master_ctest.txt\n",
        "\n",
        "# Read master_input.txt two lines at a time and run the C++ program\n",
        "while IFS= read -r line1 && IFS= read -r line2; do\n",
        "  printf \"%s\\n%s\\n\" \"$line1\" \"$line2\" | ./max_pairwise_product_long_full >> master_ctest.txt\n",
        "done < master_input.txt\n",
        "\n",
        "# Compare output with the master output file\n",
        "if diff -y master_output.txt master_ctest.txt > /dev/null; then\n",
        "  echo \"All tests passed\"\n",
        "else\n",
        "  echo \"Test Error: Check the 'master_ctest.txt' for mismatches\"\n",
        "  diff -y master_output.txt master_ctest.txt > diff.txt\n",
        "  cat diff.txt\n",
        "fi\n"
      ]
    },
    {
      "cell_type": "code",
      "execution_count": 130,
      "metadata": {
        "colab": {
          "base_uri": "https://localhost:8080/"
        },
        "id": "k6DvPRKC__cW",
        "outputId": "35a20293-89d2-43e3-ae97-7733dd7cb2ec"
      },
      "outputs": [
        {
          "output_type": "stream",
          "name": "stdout",
          "text": [
            "All tests passed\n"
          ]
        }
      ],
      "source": [
        "!chmod u+x run_all_master_test.sh\n",
        "!./run_all_master_test.sh"
      ]
    },
    {
      "cell_type": "markdown",
      "metadata": {
        "id": "k7pW8PJiGrIS"
      },
      "source": [
        "Modify Function"
      ]
    },
    {
      "cell_type": "markdown",
      "metadata": {
        "id": "9z9yr5QkeyJF"
      },
      "source": [
        "### Test 4  time test  measure the execution time running with the the largest worst cases input11.txt  (200000 increasing numbers) and inoput12.txt (199998 increasing numbers and  200000, 200000 at the end)"
      ]
    },
    {
      "cell_type": "code",
      "execution_count": 131,
      "metadata": {
        "colab": {
          "base_uri": "https://localhost:8080/"
        },
        "id": "UmB1ipWM_nSk",
        "outputId": "fca77a5a-1bd4-495a-e115-ea7062d507ff"
      },
      "outputs": [
        {
          "output_type": "stream",
          "name": "stdout",
          "text": [
            "Overwriting WriteTest.cpp\n"
          ]
        }
      ],
      "source": [
        "# input11.txt 200000 increasing numbers:  1 2 .. 200000\n",
        "\n",
        "%%writefile WriteTest.cpp\n",
        "\n",
        "#include <iostream>\n",
        "#include <fstream>\n",
        "#include <cstdlib>\n",
        "\n",
        "using namespace std;\n",
        "\n",
        "int main() {\n",
        "  // Create and open a text file\n",
        "  ofstream MyFile(\"input11.txt\");\n",
        "\n",
        " MyFile << 200000 <<\"\\n\";  // n\n",
        " for (int i=1; i <200001; i++){\n",
        "     MyFile << i <<\" \";\n",
        " }\n",
        "\n",
        "  // Close the file\n",
        "  MyFile.close();\n",
        "}"
      ]
    },
    {
      "cell_type": "code",
      "execution_count": 132,
      "metadata": {
        "id": "EH25TkOkZfD9"
      },
      "outputs": [],
      "source": [
        "!g++ WriteTest.cpp -o WriteTest\n",
        "!./WriteTest"
      ]
    },
    {
      "cell_type": "code",
      "execution_count": 133,
      "metadata": {
        "colab": {
          "base_uri": "https://localhost:8080/"
        },
        "id": "j0mokSOnCCtZ",
        "outputId": "b97e0e5d-dbcb-4082-b33a-2042e9fb0bef"
      },
      "outputs": [
        {
          "output_type": "execute_result",
          "data": {
            "text/plain": [
              "39999800000"
            ]
          },
          "metadata": {},
          "execution_count": 133
        }
      ],
      "source": [
        "199999 * 200000"
      ]
    },
    {
      "cell_type": "code",
      "execution_count": 134,
      "metadata": {
        "colab": {
          "base_uri": "https://localhost:8080/"
        },
        "id": "VoDhDV73B5Mo",
        "outputId": "a0ff9d38-b3a7-497b-db6d-83c13a1f99df"
      },
      "outputs": [
        {
          "output_type": "stream",
          "name": "stdout",
          "text": [
            "Overwriting output11.txt\n"
          ]
        }
      ],
      "source": [
        "%%writefile output11.txt\n",
        "39999800000"
      ]
    },
    {
      "cell_type": "code",
      "execution_count": 135,
      "metadata": {
        "colab": {
          "base_uri": "https://localhost:8080/"
        },
        "id": "oLiMjbAIfPlX",
        "outputId": "2187c3d8-ca8e-4f2d-8664-5883a0e6fca5"
      },
      "outputs": [
        {
          "output_type": "stream",
          "name": "stdout",
          "text": [
            "Overwriting WriteTest.cpp\n"
          ]
        }
      ],
      "source": [
        "# input12.txt 200000 decreasing numbers and 200000, 199999 ...  2 1\n",
        "\n",
        "%%writefile WriteTest.cpp\n",
        "\n",
        "#include <iostream>\n",
        "#include <fstream>\n",
        "#include <cstdlib>\n",
        "\n",
        "using namespace std;\n",
        "\n",
        "int main() {\n",
        "  // Create and open a text file\n",
        "  ofstream MyFile(\"input12.txt\");\n",
        "\n",
        " MyFile << 200000 <<\"\\n\";  // n\n",
        " for (int i=1; i <200001; i++){\n",
        "     MyFile << 200001-i <<\" \";\n",
        " }\n",
        "\n",
        "  // Close the file\n",
        "  MyFile.close();\n",
        "}"
      ]
    },
    {
      "cell_type": "code",
      "execution_count": 136,
      "metadata": {
        "id": "oULNBr_zAd9c"
      },
      "outputs": [],
      "source": [
        "!g++ WriteTest.cpp -o WriteTest\n",
        "!./WriteTest"
      ]
    },
    {
      "cell_type": "code",
      "execution_count": 137,
      "metadata": {
        "colab": {
          "base_uri": "https://localhost:8080/"
        },
        "id": "PQLyocaFB-y4",
        "outputId": "4a57923a-97fa-435d-bf2c-9aa5249ed1c5"
      },
      "outputs": [
        {
          "output_type": "stream",
          "name": "stdout",
          "text": [
            "Overwriting output12.txt\n"
          ]
        }
      ],
      "source": [
        "%%writefile output12.txt\n",
        "39999800000"
      ]
    },
    {
      "cell_type": "markdown",
      "metadata": {
        "id": "JB6f03qO-lj9"
      },
      "source": [
        "Measure time\n",
        "\n",
        "https://askubuntu.com/questions/53444/how-can-i-measure-the-execution-time-of-a-terminal-process"
      ]
    },
    {
      "cell_type": "code",
      "execution_count": 138,
      "metadata": {
        "colab": {
          "base_uri": "https://localhost:8080/"
        },
        "id": "6p2QLEr576zk",
        "outputId": "400ffed1-9515-4518-bae9-5e3a81ab632b"
      },
      "outputs": [
        {
          "output_type": "stream",
          "name": "stdout",
          "text": [
            "39999800000\n",
            "\n",
            "real\t4m54.622s\n",
            "user\t4m51.791s\n",
            "sys\t0m0.101s\n"
          ]
        }
      ],
      "source": [
        "!g++ max_pairwise_product_long_full.cpp -o max_pairwise_product_long_full\n",
        "!time ./max_pairwise_product_long_full< input11.txt"
      ]
    },
    {
      "cell_type": "code",
      "execution_count": 139,
      "metadata": {
        "colab": {
          "base_uri": "https://localhost:8080/"
        },
        "id": "cnjCyeUdAnZj",
        "outputId": "3a044afa-9a37-4714-af6c-46e4b98ac077"
      },
      "outputs": [
        {
          "output_type": "stream",
          "name": "stdout",
          "text": [
            "39999800000\n",
            "\n",
            "real\t4m53.880s\n",
            "user\t4m50.997s\n",
            "sys\t0m0.086s\n"
          ]
        }
      ],
      "source": [
        "!g++ max_pairwise_product_long_full.cpp -o max_pairwise_product_long_full\n",
        "!time ./max_pairwise_product_long_full< input12.txt"
      ]
    },
    {
      "cell_type": "markdown",
      "metadata": {
        "id": "FXClpBsUJuXC"
      },
      "source": [
        "##### Calculate the number or and upper bound to the number of instructions executed by the algorithm as a function of n, add in each line a comment with the number of instructions that are executed in that line."
      ]
    },
    {
      "cell_type": "code",
      "execution_count": 140,
      "metadata": {
        "colab": {
          "base_uri": "https://localhost:8080/"
        },
        "id": "uG6Mv-Pwlkii",
        "outputId": "960016a8-e4e1-4eaf-81cd-5a85ae74940f"
      },
      "outputs": [
        {
          "output_type": "stream",
          "name": "stdout",
          "text": [
            "Overwriting max_pairwise_product_long_full.cpp\n"
          ]
        }
      ],
      "source": [
        "%%writefile max_pairwise_product_long_full.cpp\n",
        "#include <iostream>\n",
        "#include <vector>\n",
        "#include <algorithm>\n",
        "\n",
        "long long MaxPairwiseProduct(const std::vector<int>& numbers) {              //N inst exec by line executed\n",
        "    long long max_product = 0LL;                                             //1\n",
        "\t  long long aux_product = 0LL;                                             //1\n",
        "    int n = numbers.size();                                                  //1\n",
        "\n",
        "    for (int first = 0; first < n; ++first) {                                //1+2n\n",
        "        for (int second = 0; second < n; ++second) {                         //n + 2n**2\n",
        "          if ( first != second ){                                            //n**2\n",
        "                aux_product = numbers[first] * numbers[second];              //n**2 -n\n",
        "                if (aux_product > max_product)                               //n**2 -n\n",
        "                    max_product = aux_product;                               //[1, n**2/2 - n/2] upper bound\n",
        "          }\n",
        "        }\n",
        "    }\n",
        "\n",
        "                                                                             // --------------\n",
        "    return max_product;                                                      // 4 + n + [5*n**2+1, 11*n**2/2  - n/2]  upper bound\n",
        "}\n",
        "\n",
        "int main() {                                              //N inst exec by line executed\n",
        "    int n;                                                //1\n",
        "    std::cin >> n;                                        //1\n",
        "    std::vector<int> numbers(n);                          //n\n",
        "    for (int i = 0; i < n; ++i) {                         //1 + 2n\n",
        "        std::cin >> numbers[i];                           //n\n",
        "    }\n",
        "\n",
        "    std::cout << MaxPairwiseProduct(numbers) << \"\\n\";     //1 + 1  + 4 + n + [5*n**2+1, 11*n**2/2  - n/2]\n",
        "\n",
        "    return 0;                                             // --------------\n",
        "}                                                         //  9 + 5*n + [5*n**2+1, 11*n**2/2  - n/2]  upper bound\n"
      ]
    },
    {
      "cell_type": "markdown",
      "metadata": {
        "id": "0vTsUg8OwcHs"
      },
      "source": [
        "Count executed intructions in code"
      ]
    },
    {
      "cell_type": "code",
      "execution_count": 141,
      "metadata": {
        "colab": {
          "base_uri": "https://localhost:8080/"
        },
        "id": "CuRKkqQc137V",
        "outputId": "0ce5ee97-b54b-4362-d680-e1ba484a2347"
      },
      "outputs": [
        {
          "output_type": "stream",
          "name": "stdout",
          "text": [
            "Overwriting max_pairwise_product_long_full_execints.cpp\n"
          ]
        }
      ],
      "source": [
        "%%writefile max_pairwise_product_long_full_execints.cpp\n",
        "#include <iostream>\n",
        "#include <vector>\n",
        "#include <algorithm>\n",
        "\n",
        "long long MaxPairwiseProduct(const std::vector<int>& numbers, long long &execints) {              //N inst exec by line executed\n",
        "\n",
        "    long long max_product = 0LL;                                             //1\n",
        "    execints++;\n",
        "\n",
        "\t  long long aux_product = 0LL;                                             //1\n",
        "    execints++;\n",
        "\n",
        "    int n = numbers.size();                                                  //1\n",
        "    execints++;\n",
        "\n",
        "    execints++;\n",
        "    for (int first = 0; first < n; ++first) {                                //1+2n\n",
        "        execints += 2;\n",
        "\n",
        "        execints++;\n",
        "        for (int second = 0; second < n; ++second) {                         //n + 2n**2\n",
        "          execints += 2;\n",
        "\n",
        "          execints++;\n",
        "          if ( first != second ){                                            //n**2\n",
        "                aux_product = numbers[first] * numbers[second];              //n**2 -n\n",
        "                execints++;\n",
        "\n",
        "                execints++;\n",
        "                if (aux_product > max_product){                               //n**2 -n\n",
        "                    max_product = aux_product;                               //[1,n**2/2 - n/2]  upper bound\n",
        "                    execints++;\n",
        "\n",
        "                }\n",
        "        }\n",
        "      }\n",
        "    }\n",
        "                                                                            // --------------\n",
        "    return max_product;                                                     // 4 + n + [5*n**2+1, 11*n**2/2  - n/2] upper bound\n",
        "}\n",
        "\n",
        "int main() {                                                 //N inst exec by line executed\n",
        "\n",
        "    long long execints =0LL;\n",
        "\n",
        "    int n;                                                   //1\n",
        "    execints++;\n",
        "\n",
        "    std::cin >> n;                                           //1\n",
        "    execints++;\n",
        "\n",
        "    std::vector<int> numbers(n);                             //n\n",
        "    execints += n;\n",
        "\n",
        "    execints++;\n",
        "    for (int i = 0; i < n; ++i) {                            //1 + 2n\n",
        "        execints += 2;\n",
        "\n",
        "        std::cin >> numbers[i];\n",
        "        execints++;                                          //n\n",
        "\n",
        "    }\n",
        "\n",
        "\n",
        "\n",
        "    //std::cout << MaxPairwiseProduct(numbers) << \"\\n\";      //1 + 1  + 4 + n + [5*n**2+1, 11*n**2/2  - n/2] upper bound\n",
        "\n",
        "\n",
        "    execints++;\n",
        "    int M = MaxPairwiseProduct(numbers,execints);\n",
        "\n",
        "    execints++;\n",
        "    std::cout <<  execints << \"\\n\";\n",
        "    return 0;                                                // --------------\n",
        "}                                                            // 9 + 5*n + [5*n**2+1, 11*n**2/2  - n/2]"
      ]
    },
    {
      "cell_type": "markdown",
      "metadata": {
        "id": "cUjHtvtdDsmr"
      },
      "source": [
        "The number of instructions executed by the algooirithm with a list of size $n$ is  \n",
        "\n",
        "$$T (n) = 9 + 5n + \\left[5n^2+1, 11\\frac{n^2}{2}  - \\frac{n}{2}\\right] \\ \\  \\text{upper bound}$$\n",
        "\n",
        "It depends on the size of the lists and  the order of the list.\n",
        "\n",
        "For the input1.txt\n",
        "```\n",
        "10\n",
        "1 2 3 4 5 6 7 8 9 10\n",
        "```\n",
        "$$T = 9 + 5(10) + 5(10)(10) +  9 + 5 + 4 + 3 + 2 + 2 + 2 + 2 + 1 + 0  = 589 $$\n",
        "\n",
        "$$T(10) \\in [560, 604]  $$\n"
      ]
    },
    {
      "cell_type": "markdown",
      "source": [
        "#The number of times that  max_product = aux_product; in the worst case is less than (n**2 -n)/2 -  upper bound\n",
        "\n",
        "  1  2  3  4  5  6  7  8  9  10\n",
        "1  x  2  3  4  5  6  7  8  9  10         9\n",
        "2  2  x  6  8  10 12 14 16 18 20         5 14\n",
        "3  3  6  x  12 15 18 21 24 27 30         4 18\n",
        "4  4  8  12 x  20 24 28 32 36 40         3 21\n",
        "5  5  10 15 20 x  30 35 40 45 50         2 23\n",
        "6  6  12 18 24 30 x  42 48 54 60         2 25\n",
        "7  7  14 21 28 35 42 x  56 63 70         2 27\n",
        "8  8  18 27 36 45 54 63 72 x  90         1 30\n",
        "10 10 20 30 40 50 60 70 60 90 x          0"
      ],
      "metadata": {
        "id": "HgXFWweZXm2P"
      }
    },
    {
      "cell_type": "code",
      "execution_count": 142,
      "metadata": {
        "colab": {
          "base_uri": "https://localhost:8080/"
        },
        "id": "E3O8dzFfEgir",
        "outputId": "5f69f7f0-be91-4654-fb09-1cd65dc85df5"
      },
      "outputs": [
        {
          "output_type": "execute_result",
          "data": {
            "text/plain": [
              "589"
            ]
          },
          "metadata": {},
          "execution_count": 142
        }
      ],
      "source": [
        "9 + 5*(10) + 5*(10)*(10) +  9 + 5 + 4 + 3 + 2 + 2 + 2 + 2 + 1 + 0"
      ]
    },
    {
      "cell_type": "code",
      "execution_count": 143,
      "metadata": {
        "colab": {
          "base_uri": "https://localhost:8080/"
        },
        "id": "TCpdl5u_Gq1a",
        "outputId": "5113de12-5002-482c-ac23-ea4e4b48b8df"
      },
      "outputs": [
        {
          "output_type": "stream",
          "name": "stdout",
          "text": [
            "560 604.0\n"
          ]
        }
      ],
      "source": [
        "n = 10\n",
        "print( 9 + 5*n + 5*n**2+1,  9 + 5*n + 11*n**2/2  - n/2)"
      ]
    },
    {
      "cell_type": "code",
      "execution_count": 144,
      "metadata": {
        "colab": {
          "base_uri": "https://localhost:8080/"
        },
        "id": "Kuvm1C05ly2a",
        "outputId": "464d96bd-cd5f-4b46-8017-132f049246fd"
      },
      "outputs": [
        {
          "output_type": "stream",
          "name": "stdout",
          "text": [
            "589\n"
          ]
        }
      ],
      "source": [
        "!g++ max_pairwise_product_long_full_execints.cpp -o max_pairwise_product_long_full_execints\n",
        "!./max_pairwise_product_long_full_execints < input1.txt"
      ]
    },
    {
      "cell_type": "markdown",
      "metadata": {
        "id": "Yr_Lb7CaHfxB"
      },
      "source": [
        "\n",
        "For the input2.txt\n",
        "```\n",
        "10\n",
        "10 9 8 7 6 5 4 3 2 1\n",
        "```\n",
        "$$T = 9 + 5*(10) + 5*(10)**2 +  1  = 560 $$"
      ]
    },
    {
      "cell_type": "code",
      "execution_count": 145,
      "metadata": {
        "colab": {
          "base_uri": "https://localhost:8080/"
        },
        "id": "HOdqlwJiZUIp",
        "outputId": "e63b819f-eea4-49a9-ff2b-0f0a45081b39"
      },
      "outputs": [
        {
          "output_type": "execute_result",
          "data": {
            "text/plain": [
              "560"
            ]
          },
          "metadata": {},
          "execution_count": 145
        }
      ],
      "source": [
        "9 + 5*(10) + 5*(10)**2 +  1"
      ]
    },
    {
      "cell_type": "code",
      "execution_count": 146,
      "metadata": {
        "colab": {
          "base_uri": "https://localhost:8080/"
        },
        "id": "_znzLectjFSe",
        "outputId": "af522c66-c8ff-433c-fd67-4ffa75085060"
      },
      "outputs": [
        {
          "output_type": "stream",
          "name": "stdout",
          "text": [
            "296\n"
          ]
        }
      ],
      "source": [
        "!g++ max_pairwise_product_long_full_execints.cpp -o max_pairwise_product_long_full_execints\n",
        "!./max_pairwise_product_long_full_execints < input4.txt\n",
        "n= 10"
      ]
    },
    {
      "cell_type": "markdown",
      "metadata": {
        "id": "L_uaamxeAHK7"
      },
      "source": [
        "\n",
        "For the input12.txt\n",
        "```\n",
        "200000\n",
        "200000  199999 ... 2 1\n",
        "```\n",
        "$$T = 9 + 5*(200000) + 5*(200000)**2 +1  = 200001000010 $$\n",
        "\n"
      ]
    },
    {
      "cell_type": "code",
      "execution_count": 147,
      "metadata": {
        "colab": {
          "base_uri": "https://localhost:8080/"
        },
        "id": "c7X-ewmeXe-h",
        "outputId": "8270d773-9be2-4bba-8164-95e80c15caaf"
      },
      "outputs": [
        {
          "output_type": "execute_result",
          "data": {
            "text/plain": [
              "200001000010"
            ]
          },
          "metadata": {},
          "execution_count": 147
        }
      ],
      "source": [
        "9 + 5*(200000) + 5*(200000)**2 +1"
      ]
    },
    {
      "cell_type": "markdown",
      "metadata": {
        "id": "NXW7QkoBL6xH"
      },
      "source": [
        "Calculate estimated time by instruction and number of instructions by second"
      ]
    },
    {
      "cell_type": "code",
      "execution_count": 148,
      "metadata": {
        "colab": {
          "base_uri": "https://localhost:8080/"
        },
        "id": "BMH8mF3EKn2w",
        "outputId": "be73983c-fb71-4c49-e419-42f9919da200"
      },
      "outputs": [
        {
          "output_type": "stream",
          "name": "stdout",
          "text": [
            "200001000021\n",
            "\n",
            "real\t7m35.001s\n",
            "user\t7m30.974s\n",
            "sys\t0m0.116s\n"
          ]
        }
      ],
      "source": [
        "!g++ max_pairwise_product_long_full_execints.cpp -o max_pairwise_product_long_full_execints\n",
        "!time ./max_pairwise_product_long_full_execints < input12.txt\n"
      ]
    },
    {
      "cell_type": "code",
      "execution_count": 149,
      "metadata": {
        "colab": {
          "base_uri": "https://localhost:8080/"
        },
        "id": "pKqB3i7dIxnc",
        "outputId": "6f0da23b-2fc4-4683-e35c-8ec34d20b279"
      },
      "outputs": [
        {
          "output_type": "execute_result",
          "data": {
            "text/plain": [
              "1.5299923499617505e-09"
            ]
          },
          "metadata": {},
          "execution_count": 149
        }
      ],
      "source": [
        "# Estimated time by instruction\n",
        "\n",
        "306/200001000010\n"
      ]
    },
    {
      "cell_type": "code",
      "execution_count": 150,
      "metadata": {
        "colab": {
          "base_uri": "https://localhost:8080/"
        },
        "id": "18N1ouqeMhE1",
        "outputId": "c6b2f42a-584b-4f71-98f7-fcfdef2daae3"
      },
      "outputs": [
        {
          "output_type": "execute_result",
          "data": {
            "text/plain": [
              "1.5299923499617505e-09"
            ]
          },
          "metadata": {},
          "execution_count": 150
        }
      ],
      "source": [
        "# Estimated number of instructions by second\n",
        "\n",
        "306/200001000010"
      ]
    },
    {
      "cell_type": "markdown",
      "metadata": {
        "id": "KyuxejFkL5X_"
      },
      "source": [
        "# Estimate the maximun n that can be solved in 1 second\n",
        "\n",
        "$$5n^2 \\times 1.53*10^{-9} s = 1s$$\n",
        "\n",
        "$$ n \\approx 11000$$\n"
      ]
    },
    {
      "cell_type": "code",
      "execution_count": 151,
      "metadata": {
        "colab": {
          "base_uri": "https://localhost:8080/"
        },
        "id": "WXu5jp-DLTOI",
        "outputId": "0eb14074-c21d-48dc-a797-52e49d8318e7"
      },
      "outputs": [
        {
          "output_type": "stream",
          "name": "stdout",
          "text": [
            "Overwriting WriteTest.cpp\n"
          ]
        }
      ],
      "source": [
        "# Verify input13.txt\n",
        "%%writefile WriteTest.cpp\n",
        "\n",
        "#include <iostream>\n",
        "#include <fstream>\n",
        "#include <cstdlib>\n",
        "\n",
        "using namespace std;\n",
        "\n",
        "int main() {\n",
        "  // Create and open a text file\n",
        "  ofstream MyFile(\"input13.txt\");\n",
        "\n",
        " MyFile << 11000 <<\"\\n\";  // n\n",
        " for (int i=1; i <11001; i++){\n",
        "     MyFile << i <<\" \";\n",
        " }\n",
        "\n",
        "  // Close the file\n",
        "  MyFile.close();\n",
        "}"
      ]
    },
    {
      "cell_type": "code",
      "execution_count": 152,
      "metadata": {
        "id": "AQ8N52pUMCeT"
      },
      "outputs": [],
      "source": [
        "!g++ WriteTest.cpp -o WriteTest\n",
        "!./WriteTest"
      ]
    },
    {
      "cell_type": "code",
      "execution_count": 153,
      "metadata": {
        "colab": {
          "base_uri": "https://localhost:8080/"
        },
        "id": "ussuAokfM2du",
        "outputId": "4c12ff50-b8ac-4b57-c343-6f95437d3d85"
      },
      "outputs": [
        {
          "output_type": "stream",
          "name": "stdout",
          "text": [
            "120989000\n",
            "\n",
            "real\t0m0.859s\n",
            "user\t0m0.844s\n",
            "sys\t0m0.005s\n"
          ]
        }
      ],
      "source": [
        "!g++ max_pairwise_product_long_full.cpp -o max_pairwise_product_long_full\n",
        "!time ./max_pairwise_product_long_full< input13.txt"
      ]
    },
    {
      "cell_type": "markdown",
      "metadata": {
        "id": "Tm_AVmt-QQH4"
      },
      "source": [
        "## Python"
      ]
    },
    {
      "cell_type": "code",
      "execution_count": 154,
      "metadata": {
        "colab": {
          "base_uri": "https://localhost:8080/"
        },
        "id": "gRCCcd7IQTKZ",
        "outputId": "49a1f3fb-a19e-47ec-cd7c-36913cd22c52"
      },
      "outputs": [
        {
          "output_type": "stream",
          "name": "stdout",
          "text": [
            "Overwriting MaxPairwiseProduct.py\n"
          ]
        }
      ],
      "source": [
        "%%writefile MaxPairwiseProduct.py\n",
        "def MaxPairwiseProduct(numbers):\n",
        "    execints = 0  # N inst exec by line executed\n",
        "\n",
        "    max_product = 0  # 1\n",
        "    execints += 1\n",
        "\n",
        "    aux_product = 0  # 1\n",
        "    execints += 1\n",
        "\n",
        "    n = len(numbers)  # 1\n",
        "    execints += 1\n",
        "\n",
        "    execints += 1\n",
        "    for first in range(n):  # 1+2n\n",
        "        execints += 2\n",
        "\n",
        "        execints += 1\n",
        "        for second in range(n):  # n + 2n**2\n",
        "            execints += 2\n",
        "\n",
        "            execints += 1\n",
        "            if first != second:  # n**2\n",
        "                aux_product = numbers[first] * numbers[second]  # n**2 - n\n",
        "                execints += 1\n",
        "\n",
        "                execints += 1\n",
        "                if aux_product > max_product:  # n**2 - n\n",
        "                    max_product = aux_product  # [1, n**2/2 - n/2] upper bound\n",
        "                    execints += 1\n",
        "\n",
        "    return max_product, execints  # 4 + n + [5*n**2+1, 11*n**2/2 - n/2] upper bound\n",
        "\n",
        "def main_function():\n",
        "    execints = 0  # N inst exec by line executed\n",
        "\n",
        "    n = int(input())  # 1\n",
        "    execints += 1\n",
        "\n",
        "    numbers = list(map(int, input().split()))  # n\n",
        "    execints += n\n",
        "\n",
        "    execints += 1\n",
        "\n",
        "    execints += 1\n",
        "    max_product, execints_returned = MaxPairwiseProduct(numbers)  # 1 + 1 + 4 + n + [5*n**2+1, 11*n**2/2 - n/2] upper bound\n",
        "    execints += execints_returned\n",
        "\n",
        "    execints += 1\n",
        "    #print(execints)   9 + 5*n + [5*n**2+1, 11*n**2/2 - n/2]\n",
        "    print(max_product)\n",
        "\n",
        "if __name__ == '__main__':\n",
        "    main_function()"
      ]
    },
    {
      "cell_type": "code",
      "execution_count": 155,
      "metadata": {
        "colab": {
          "base_uri": "https://localhost:8080/"
        },
        "id": "kAEAoNZEQTCw",
        "outputId": "66bd175b-4c4b-4e83-c6a6-b988c87ece9a"
      },
      "outputs": [
        {
          "output_type": "stream",
          "name": "stdout",
          "text": [
            "120989000\n",
            "\n",
            "real\t0m42.896s\n",
            "user\t0m42.504s\n",
            "sys\t0m0.025s\n"
          ]
        }
      ],
      "source": [
        "!time python MaxPairwiseProduct.py < input13.txt"
      ]
    },
    {
      "cell_type": "code",
      "execution_count": 156,
      "metadata": {
        "id": "hjw7TJrDL0d-"
      },
      "outputs": [],
      "source": [
        "# Verify\n",
        "# Test\n",
        "!python MaxPairwiseProduct.py < input1.txt > output1.txt\n",
        "!python MaxPairwiseProduct.py < input2.txt > output2.txt\n",
        "!python MaxPairwiseProduct.py < input4.txt > output4.txt"
      ]
    },
    {
      "cell_type": "code",
      "execution_count": 157,
      "metadata": {
        "colab": {
          "base_uri": "https://localhost:8080/"
        },
        "id": "eXzIBh0uhqRh",
        "outputId": "43b8de8f-c260-4476-d6bf-97f81c081e2b"
      },
      "outputs": [
        {
          "output_type": "stream",
          "name": "stdout",
          "text": [
            "Overwriting MaxPairwiseProductWithDetails.py\n"
          ]
        }
      ],
      "source": [
        "%%writefile MaxPairwiseProductWithDetails.py\n",
        "def MaxPairwiseProduct(numbers):\n",
        "    execints = 0  # N inst exec by line executed\n",
        "\n",
        "    max_product = 0  # 1\n",
        "    execints += 1\n",
        "\n",
        "    aux_product = 0  # 1\n",
        "    execints += 1\n",
        "\n",
        "    n = len(numbers)  # 1\n",
        "    execints += 1\n",
        "\n",
        "    execints += 1\n",
        "    for first in range(n):  # 1+2n\n",
        "        execints += 2\n",
        "\n",
        "        execints += 1\n",
        "        for second in range(n):  # n + 2n**2\n",
        "            execints += 2\n",
        "\n",
        "            execints += 1\n",
        "            if first != second:  # n**2\n",
        "                aux_product = numbers[first] * numbers[second]  # n**2 - n\n",
        "                execints += 1\n",
        "\n",
        "                execints += 1\n",
        "                if aux_product > max_product:  # n**2 - n\n",
        "                    max_product = aux_product  # [1, n**2/2 - n/2] upper bound\n",
        "                    execints += 1\n",
        "\n",
        "    return max_product, execints  # 4 + n + [5*n**2+1, 11*n**2/2 - n/2] upper bound\n",
        "\n",
        "def main_function():\n",
        "    execints = 0  # N inst exec by line executed\n",
        "\n",
        "    n = int(input())  # 1\n",
        "    execints += 1\n",
        "\n",
        "    numbers = list(map(int, input().split()))  # n\n",
        "    execints += n\n",
        "\n",
        "    execints += 1\n",
        "\n",
        "    execints += 1\n",
        "    max_product, execints_returned = MaxPairwiseProduct(numbers)  # 1 + 1 + 4 + n + [5*n**2+1, 11*n**2/2 - n/2] upper bound\n",
        "    execints += execints_returned\n",
        "\n",
        "    execints += 1\n",
        "    print(\"Instructions\",execints) #  9 + 5*n + [5*n**2+1, 11*n**2/2 - n/2]\n",
        "    print(max_product)\n",
        "\n",
        "if __name__ == '__main__':\n",
        "    main_function()"
      ]
    },
    {
      "cell_type": "code",
      "execution_count": 79,
      "metadata": {
        "colab": {
          "base_uri": "https://localhost:8080/"
        },
        "id": "mo5PIb3viBV5",
        "outputId": "7481c658-4a30-454b-b758-d3a0f51529fa"
      },
      "outputs": [
        {
          "output_type": "stream",
          "name": "stdout",
          "text": [
            "Instructions 605137049\n",
            "120989000\n",
            "\n",
            "real\t0m45.497s\n",
            "user\t0m45.005s\n",
            "sys\t0m0.033s\n"
          ]
        }
      ],
      "source": [
        "!time python MaxPairwiseProductWithDetails.py < input13.txt"
      ]
    },
    {
      "cell_type": "code",
      "execution_count": 80,
      "metadata": {
        "colab": {
          "base_uri": "https://localhost:8080/"
        },
        "id": "MxtOf89niLvj",
        "outputId": "1c092f9f-d334-4f3c-9132-c4f67e1a0487"
      },
      "outputs": [
        {
          "output_type": "stream",
          "name": "stdout",
          "text": [
            "python 7.428565161278037e-08\n",
            "c++ 1.5299923499617505e-09\n"
          ]
        }
      ],
      "source": [
        "instructions_per_second=44.953/605137049\n",
        "print('python',instructions_per_second)\n",
        "instructions_per_second_c=306/200001000010\n",
        "print('c++',instructions_per_second_c)\n"
      ]
    },
    {
      "cell_type": "markdown",
      "metadata": {
        "id": "MKQKSC-vKePK"
      },
      "source": [
        "## Perform the same analysis for an algorithm in C++ and Python that uses\n",
        "$$\\frac{n^2 - n}{2} = O(n^2)\\ \\ \\text{products}$$"
      ]
    },
    {
      "cell_type": "code",
      "execution_count": 81,
      "metadata": {
        "colab": {
          "base_uri": "https://localhost:8080/"
        },
        "id": "jkkHHoxSK65p",
        "outputId": "f7847278-bd02-43d1-c2f4-2a031fcee6f5"
      },
      "outputs": [
        {
          "output_type": "stream",
          "name": "stdout",
          "text": [
            "Writing max_pairwise_product.cpp\n"
          ]
        }
      ],
      "source": [
        "%%writefile max_pairwise_product.cpp\n",
        "#include <iostream>\n",
        "#include <vector>\n",
        "#include <algorithm>\n",
        "\n",
        "int MaxPairwiseProduct(const std::vector<int>& numbers) {\n",
        "    int max_product = 0;\n",
        "    int n = numbers.size();\n",
        "\n",
        "    for (int first = 0; first < n; ++first) {\n",
        "        for (int second = first + 1; second < n; ++second) {\n",
        "            max_product = std::max(max_product,\n",
        "                numbers[first] * numbers[second]);\n",
        "        }\n",
        "    }\n",
        "\n",
        "    return max_product;\n",
        "}\n",
        "\n",
        "int main() {\n",
        "    int n;\n",
        "    std::cin >> n;\n",
        "    std::vector<int> numbers(n);\n",
        "    for (int i = 0; i < n; ++i) {\n",
        "        std::cin >> numbers[i];\n",
        "    }\n",
        "\n",
        "    std::cout << MaxPairwiseProduct(numbers) << \"\\n\";\n",
        "    return 0;\n",
        "}"
      ]
    },
    {
      "cell_type": "code",
      "execution_count": 82,
      "metadata": {
        "colab": {
          "base_uri": "https://localhost:8080/"
        },
        "id": "sU8-Ote7K8vz",
        "outputId": "846cefef-e867-4136-b2dd-6abe14b17e11"
      },
      "outputs": [
        {
          "output_type": "stream",
          "name": "stdout",
          "text": [
            "Writing max_pairwise_product_long.cpp\n"
          ]
        }
      ],
      "source": [
        "%%writefile max_pairwise_product_long.cpp\n",
        "#include <iostream>\n",
        "#include <vector>\n",
        "#include <algorithm>\n",
        "\n",
        "long long MaxPairwiseProduct(const std::vector<int>& numbers) {              //N inst exec by line executed\n",
        "    long long max_product = 0LL;                                             //1\n",
        "\t  long long aux_product = 0LL;                                             //1\n",
        "    int n = numbers.size();                                                  //1\n",
        "\n",
        "    for (int first = 0; first < n; ++first) {                                //1+2n\n",
        "        for (int second = first + 1; second < n; ++second) {                 //n + (n-1)n\n",
        "\t\t\t       aux_product =  (long long) numbers[first] * numbers[second];    //(n-1)n/2\n",
        "            if (max_product < aux_product)  {                                //(n-1)n/2\n",
        "\t\t\t\t        max_product = aux_product;                                   //[0, (n-1)n/2]\n",
        "             }\n",
        "        }\n",
        "    }\n",
        "                                                                             // --------------\n",
        "    return max_product;                                                      // 4 + 3n + [2(n-1)n, 2.5 (n-1)n] upper bound\n",
        "}\n",
        "\n",
        "int main() {                                              //N inst exec by line executed\n",
        "    int n;                                                //1\n",
        "    std::cin >> n;                                        //1\n",
        "    std::vector<int> numbers(n);                          //n\n",
        "    for (int i = 0; i < n; ++i) {                         //1 + 2n\n",
        "        std::cin >> numbers[i];                           //n\n",
        "    }\n",
        "\n",
        "    std::cout << MaxPairwiseProduct(numbers) << \"\\n\";     //1 + 1  + 4 + 3n + [2(n-1)n, 2.5 (n-1)n]\n",
        "    return 0;                                             // --------------\n",
        "}                                                         // 9 + 7n + [2(n-1)n, 2.5 (n-1)n] upper bound\n"
      ]
    },
    {
      "cell_type": "code",
      "execution_count": 158,
      "metadata": {
        "colab": {
          "base_uri": "https://localhost:8080/"
        },
        "id": "woE73MHjvYS7",
        "outputId": "b0bb6fe2-3a93-4b9a-891d-cdfbbb099a1b"
      },
      "outputs": [
        {
          "output_type": "stream",
          "name": "stdout",
          "text": [
            "Writing max_pairwise_product_long_details.cpp\n"
          ]
        }
      ],
      "source": [
        "%%writefile max_pairwise_product_long_details.cpp\n",
        "#include <iostream>\n",
        "#include <vector>\n",
        "#include <algorithm>\n",
        "#include <chrono>\n",
        "\n",
        "long long MaxPairwiseProduct(const std::vector<int>& numbers, long long &execInstruction) {\n",
        "    long long max_product = 0LL;\n",
        "    long long aux_product = 0LL;\n",
        "    int n = numbers.size();\n",
        "    execInstruction += 4;\n",
        "\n",
        "    for (int first = 0; first < n; ++first) {\n",
        "        execInstruction += 2;\n",
        "        for (int second = first + 1; second < n; ++second) {\n",
        "            execInstruction += 3;\n",
        "            aux_product = (long long) numbers[first] * numbers[second];\n",
        "            if (max_product < aux_product)  {\n",
        "                execInstruction++;\n",
        "                max_product = aux_product;\n",
        "            }\n",
        "        }\n",
        "    }\n",
        "\n",
        "    return max_product;\n",
        "}\n",
        "\n",
        "int main() {\n",
        "    long long execInstruction = 0;\n",
        "    int n;\n",
        "    std::cin >> n;\n",
        "    execInstruction++;\n",
        "    std::vector<int> numbers(n);\n",
        "    execInstruction += n;\n",
        "\n",
        "    for (int i = 0; i < n; ++i) {\n",
        "        execInstruction += 2;\n",
        "        std::cin >> numbers[i];\n",
        "        execInstruction++;\n",
        "    }\n",
        "\n",
        "    auto start = std::chrono::high_resolution_clock::now();\n",
        "    long long result = MaxPairwiseProduct(numbers, execInstruction);\n",
        "    auto stop = std::chrono::high_resolution_clock::now();\n",
        "    auto duration = std::chrono::duration_cast<std::chrono::microseconds>(stop - start).count();\n",
        "\n",
        "    std::cout << result << \"\\n\";\n",
        "    std::cout << \"Time taken by function: \" << duration << \" microseconds\" << std::endl;\n",
        "    std::cout << \"Approximate executed instructions: \" << execInstruction << std::endl;\n",
        "    std::cout << \"Time per instruction: \" << (double)duration / execInstruction << \" microseconds\" << std::endl;\n",
        "\n",
        "    return 0;\n",
        "}\n"
      ]
    },
    {
      "cell_type": "markdown",
      "metadata": {
        "id": "BaCPXVFcp01t"
      },
      "source": [
        "Python Code"
      ]
    },
    {
      "cell_type": "code",
      "execution_count": 159,
      "metadata": {
        "id": "5QWT3fneK8nw",
        "colab": {
          "base_uri": "https://localhost:8080/"
        },
        "outputId": "92f3872b-4bda-45b2-96ab-755560fc8b30"
      },
      "outputs": [
        {
          "output_type": "stream",
          "name": "stdout",
          "text": [
            "Writing max_pairwise_product_long_details.py\n"
          ]
        }
      ],
      "source": [
        "%%writefile max_pairwise_product_long_details.py\n",
        "import time\n",
        "\n",
        "def max_pairwise_product(numbers):\n",
        "    max_product = 0\n",
        "    n = len(numbers)\n",
        "    execInstruction = 4;\n",
        "\n",
        "    for first in range(n):\n",
        "        execInstruction += 2\n",
        "        for second in range(first + 1, n):\n",
        "            execInstruction += 3\n",
        "            aux_product = numbers[first] * numbers[second]\n",
        "            if max_product < aux_product:\n",
        "                execInstruction += 1\n",
        "                max_product = aux_product\n",
        "\n",
        "    return max_product, execInstruction\n",
        "\n",
        "if __name__ == '__main__':\n",
        "    execInstruction = 0\n",
        "    n = int(input())\n",
        "    execInstruction += 1\n",
        "    numbers = list(map(int, input().split()))\n",
        "    execInstruction += n\n",
        "    execInstruction += 2 * n\n",
        "\n",
        "    start_time = time.time()\n",
        "    result, instructionCount = max_pairwise_product(numbers)\n",
        "    end_time = time.time()\n",
        "    duration = (end_time - start_time) * 1e6  # in microseconds\n",
        "\n",
        "    print(result)\n",
        "    print(\"--- %s microseconds ---\" % duration)\n",
        "    print(\"Approximate executed instructions:\", instructionCount)\n",
        "    print(\"Time per instruction: %s microseconds\" % (duration / instructionCount))\n"
      ]
    },
    {
      "cell_type": "markdown",
      "metadata": {
        "id": "ey3FDB29p4T1"
      },
      "source": [
        "Performance comparative  c++ vs python"
      ]
    },
    {
      "cell_type": "code",
      "execution_count": 160,
      "metadata": {
        "id": "mxIVvm1RK8dB",
        "colab": {
          "base_uri": "https://localhost:8080/"
        },
        "outputId": "74927413-741d-4484-8eb0-cbc0dea2876a"
      },
      "outputs": [
        {
          "output_type": "stream",
          "name": "stdout",
          "text": [
            "python\n",
            "120989000\n",
            "--- 12529414.653778076 microseconds ---\n",
            "Approximate executed instructions: 181620545\n",
            "Time per instruction: 0.06898676938656954 microseconds\n",
            "c++\n",
            "120989000\n",
            "Time taken by function: 448700 microseconds\n",
            "Approximate executed instructions: 181664546\n",
            "Time per instruction: 0.00246994 microseconds\n"
          ]
        }
      ],
      "source": [
        "!echo python\n",
        "!python max_pairwise_product_long_details.py < input13.txt\n",
        "!echo c++\n",
        "!g++ max_pairwise_product_long_details.cpp -o max_pairwise_product_long_details\n",
        "!./max_pairwise_product_long_details< input13.txt"
      ]
    },
    {
      "cell_type": "markdown",
      "metadata": {
        "id": "1Hsbd-uHOb_j"
      },
      "source": [
        "### Sort solution in C++ and Python\n",
        "\n",
        "$$ O(n \\lg n)$$\n",
        "\n",
        "**Which sorting algorithm is used in GCC?**\n",
        "https://stackoverflow.com/questions/7221257/which-sorting-algorithm-is-used-in-gcc\n",
        "\n",
        "* ...  the algorithm is called introsort, a combination between Insertionsort, Quicksort & Heapsort. ...\n",
        "\n",
        "**Introsort**\n",
        "https://en.wikipedia.org/wiki/Introsort\n",
        "\n",
        "Introsort or introspective sort is a hybrid sorting algorithm that provides both fast average performance and (asymptotically) optimal worst-case performance. It begins with quicksort, it switches to heapsort when the recursion depth exceeds a level based on (the logarithm of) the number of elements being sorted and it switches to insertion sort when the number of elements is below some threshold\n",
        "\n",
        "*   Class\tSorting algorithm\n",
        "*   Data structure\tArray\n",
        "*   Worst-case performance\t$O(n \\lg n)$\n",
        "*   Average performance\t$O(n \\lg n)$\n",
        "\n",
        "**Tinsort**\n",
        "https://en.wikipedia.org/wiki/Timsort\n",
        "\n",
        "Timsort is a hybrid, stable sorting algorithm, derived from merge sort and insertion sort, designed to perform well on many kinds of real-world data. It was implemented by Tim Peters in 2002 for use in the Python programming language.\n",
        "\n",
        "*   Class\tSorting algorithm\n",
        "*   Data structure\tArray\n",
        "*   Worst-case performance\t$O(n \\lg n)$\n",
        "*   Best-case performance $O(n)$\n",
        "*   Average performance\t$O(n \\lg n)$\n",
        "*   Worst-case space complexity $O(n)$"
      ]
    },
    {
      "cell_type": "markdown",
      "metadata": {
        "id": "WMUthAXjOb_k"
      },
      "source": [
        "Add in each line a coment with the number of intstrcution that are executed in that line"
      ]
    },
    {
      "cell_type": "code",
      "execution_count": 161,
      "metadata": {
        "id": "2-sXOmqFOb_k",
        "colab": {
          "base_uri": "https://localhost:8080/"
        },
        "outputId": "0c077273-4cb2-41d9-de89-4f8b89affdd5"
      },
      "outputs": [
        {
          "output_type": "stream",
          "name": "stdout",
          "text": [
            "Writing max_pairwise_product_optimized_n_log_n.cpp\n"
          ]
        }
      ],
      "source": [
        "%%writefile max_pairwise_product_optimized_n_log_n.cpp\n",
        "#include <iostream>\n",
        "#include <vector>\n",
        "#include <algorithm>\n",
        "#include <chrono>\n",
        "#include <cmath>\n",
        "\n",
        "long long MaxPairwiseProduct(std::vector<int>& numbers, long long &execInstruction) {   // N inst exec by line executed\n",
        "    execInstruction += 1;                                       // 1\n",
        "    int n = numbers.size();                                                               // 1\n",
        "    execInstruction += 4;                              // 1\n",
        "\n",
        "    std::sort(numbers.begin(), numbers.end()); // O(n log n)\n",
        "    execInstruction += n * log2(n); // sorting takes n log n comparisons in average       // 1\n",
        "\n",
        "    long long max_product = (long long) numbers[n - 1] * numbers[n - 2];                  // 2\n",
        "    execInstruction += 3;                         // 1\n",
        "\n",
        "    return max_product;                                                                   // 1\n",
        "} // Total for MaxPairwiseProduct: 1 + 1 + 1 + n log n + 1 + 2 + 1 + 1 = 8 + n log n\n",
        "\n",
        "int main() {                                                            // N inst exec by line executed\n",
        "    long long execInstruction = 0;                                      // 1\n",
        "    int n;                                                              // 1\n",
        "    std::cin >> n;                                                      // 1\n",
        "    execInstruction += 1; // for reading n                              // 1\n",
        "\n",
        "    std::vector<int> numbers(n);                                        // n\n",
        "    execInstruction += n; // for initializing the vector with n elements// 1\n",
        "\n",
        "    for (int i = 0; i < n; ++i) {                                       // 1 + 2n\n",
        "        execInstruction += 2;  // 1\n",
        "        std::cin >> numbers[i];                                         // n\n",
        "        execInstruction += 1;                 // 1\n",
        "    }                                                                   // Total for loop: 1 + 2n + n + 1 + 1 = 3n + 3\n",
        "\n",
        "    auto start = std::chrono::high_resolution_clock::now();             // 1\n",
        "    long long result = MaxPairwiseProduct(numbers, execInstruction);    // 1 + (8 + n log n)\n",
        "    auto stop = std::chrono::high_resolution_clock::now();              // 1\n",
        "    auto duration = std::chrono::duration_cast<std::chrono::microseconds>(stop - start).count(); // 1\n",
        "    execInstruction += 4; // for calling the function and the assignments // 1\n",
        "\n",
        "    std::cout << result << \"\\n\";                                        // 1\n",
        "    execInstruction += 1; // for printing result                        // 1\n",
        "\n",
        "    std::cout << \"Time taken by function: \" << duration << \" microseconds\" << std::endl; // 1\n",
        "    execInstruction += 1; // for printing duration                      // 1\n",
        "\n",
        "    std::cout << \"Approximate executed instructions: \" << execInstruction << std::endl; // 1\n",
        "    execInstruction += 1; // for printing execInstruction               // 1\n",
        "\n",
        "    std::cout << \"Time per instruction: \" << (double)duration / execInstruction << \" microseconds\" << std::endl; // 1\n",
        "    execInstruction += 1; // for printing time per instruction          // 1\n",
        "\n",
        "    return 0;                                                           // 1\n",
        "} // Total for main: 4 + n + 1 + (3n + 3) + 1 + (8 + n log n) + 12 = 29 + 4n + n log n\n"
      ]
    },
    {
      "cell_type": "markdown",
      "metadata": {
        "id": "v8pdV9ABOb_k"
      },
      "source": [
        "Test with inputs 1 and 2\n",
        "\n"
      ]
    },
    {
      "cell_type": "code",
      "execution_count": 162,
      "metadata": {
        "id": "kdXAyLG4Ob_k",
        "colab": {
          "base_uri": "https://localhost:8080/"
        },
        "outputId": "fc83fc0c-51d4-49ad-d9de-0c38b8024206"
      },
      "outputs": [
        {
          "output_type": "stream",
          "name": "stdout",
          "text": [
            "c++ introsort\n",
            "120989000\n",
            "Time taken by function: 2333 microseconds\n",
            "Approximate executed instructions: 191692\n",
            "Time per instruction: 0.0121705 microseconds\n"
          ]
        }
      ],
      "source": [
        "!echo c++ introsort\n",
        "!g++ max_pairwise_product_optimized_n_log_n.cpp -o max_pairwise_product_optimized_n_log_n\n",
        "!./max_pairwise_product_optimized_n_log_n< input13.txt"
      ]
    },
    {
      "cell_type": "markdown",
      "metadata": {
        "id": "Sw-5X1q1Ob_k"
      },
      "source": [
        "# Python introsort"
      ]
    },
    {
      "cell_type": "code",
      "execution_count": 163,
      "metadata": {
        "id": "ryHJ30WIOb_k",
        "colab": {
          "base_uri": "https://localhost:8080/"
        },
        "outputId": "01e8eb9c-bdd6-46b9-f31f-b218d24cb682"
      },
      "outputs": [
        {
          "output_type": "stream",
          "name": "stdout",
          "text": [
            "Writing max_pairwise_product_optimized_timsort.py\n"
          ]
        }
      ],
      "source": [
        "%%writefile max_pairwise_product_optimized_timsort.py\n",
        "import time\n",
        "from math import log2\n",
        "\n",
        "def max_pairwise_product(numbers): # 8 + n log n\n",
        "    execInstruction = 1  # 1\n",
        "    n = len(numbers)     # 1\n",
        "    execInstruction += 1  # 1\n",
        "\n",
        "    # Python usa Timsort (variante de Introsort) por defecto, con una complejidad de O(n log n)\n",
        "    numbers.sort()        # n log n\n",
        "    execInstruction += int(n * (log2(n) if n > 1 else 1))  # 1\n",
        "\n",
        "    max_product = numbers[-1] * numbers[-2]  # 2 (acceso a elementos y multiplicación)\n",
        "    execInstruction += 2  # 1\n",
        "\n",
        "    return max_product, execInstruction  # 1\n",
        "\n",
        "if __name__ == '__main__':\n",
        "    execInstruction = 0  # 1\n",
        "    n = int(input())     # 1\n",
        "    execInstruction += 1  # 1\n",
        "\n",
        "    numbers = list(map(int, input().split()))  # n para la conversión + n para la creación de la lista\n",
        "    execInstruction += 2 * n  # 1\n",
        "\n",
        "    start_time = time.time()  # 1\n",
        "    result, instructionCount = max_pairwise_product(numbers)  # 1 + (8 + n log n )\n",
        "    end_time = time.time()  # 1\n",
        "    duration = (end_time - start_time) * 1e6  # in microseconds  # 1\n",
        "    execInstruction += 4  # 1\n",
        "\n",
        "    print(result)  # 1\n",
        "    print(f\"--- {duration} microseconds ---\")  # 1\n",
        "    print(\"Approximate executed instructions:\", instructionCount)  # 1\n",
        "    print(f\"Time per instruction: {duration / instructionCount} microseconds\")  # 1\n",
        "    execInstruction += 4  # Instrucciones de print\n"
      ]
    },
    {
      "cell_type": "markdown",
      "metadata": {
        "id": "oJGdPl1HOb_k"
      },
      "source": [
        "20 stress tests"
      ]
    },
    {
      "cell_type": "code",
      "execution_count": 164,
      "metadata": {
        "id": "pXHtO1dEOb_k",
        "colab": {
          "base_uri": "https://localhost:8080/"
        },
        "outputId": "ca00de24-c7ec-4703-822f-a847e5d9e19d"
      },
      "outputs": [
        {
          "output_type": "stream",
          "name": "stdout",
          "text": [
            "python timsort\n",
            "120989000\n",
            "--- 96.32110595703125 microseconds ---\n",
            "Approximate executed instructions: 147681\n",
            "Time per instruction: 0.0006522240908243528 microseconds\n"
          ]
        }
      ],
      "source": [
        "!echo python timsort\n",
        "!python max_pairwise_product_optimized_timsort.py < input13.txt"
      ]
    },
    {
      "cell_type": "markdown",
      "metadata": {
        "id": "2beTmWFPOb_k"
      },
      "source": [
        "Count executed instructions in code and verify with inputs 1,2 and 3\n"
      ]
    },
    {
      "cell_type": "code",
      "execution_count": 165,
      "metadata": {
        "id": "iuByv4x1Ob_k",
        "colab": {
          "base_uri": "https://localhost:8080/"
        },
        "outputId": "41e276e7-764c-4de1-85ac-d783946c25f0"
      },
      "outputs": [
        {
          "output_type": "stream",
          "name": "stdout",
          "text": [
            "c++ introsort\n",
            "120989000\n",
            "Time taken by function: 3426 microseconds\n",
            "Approximate executed instructions: 191692\n",
            "Time per instruction: 0.0178723 microseconds\n",
            "python timsort\n",
            "120989000\n",
            "--- 175.47607421875 microseconds ---\n",
            "Approximate executed instructions: 147681\n",
            "Time per instruction: 0.001188210224868128 microseconds\n"
          ]
        }
      ],
      "source": [
        "!echo c++ introsort\n",
        "!g++ max_pairwise_product_optimized_n_log_n.cpp -o max_pairwise_product_optimized_n_log_n\n",
        "!./max_pairwise_product_optimized_n_log_n< input13.txt\n",
        "!echo python timsort\n",
        "!python max_pairwise_product_optimized_timsort.py < input13.txt"
      ]
    },
    {
      "cell_type": "markdown",
      "metadata": {
        "id": "nLcKBwbU0QsE"
      },
      "source": [
        "Add in each line a coment with the number of intstrcution that are executed in that line"
      ]
    },
    {
      "cell_type": "markdown",
      "metadata": {
        "id": "sUpIWcykOGpT"
      },
      "source": [
        "### Super efficient solution\n",
        "\n",
        "Whitout storing the list in memory, only stpring the largest and second largest and whitout calling a function, add in each line a coment with the number of instructions that are executed in that line\n",
        "\n",
        "in C++ and Python\n",
        " $$2 n = O(n)$$"
      ]
    },
    {
      "cell_type": "code",
      "execution_count": 166,
      "metadata": {
        "id": "hBLt_xBQLy8E",
        "colab": {
          "base_uri": "https://localhost:8080/"
        },
        "outputId": "e245f1a3-a603-4e58-a812-13d950acd53e"
      },
      "outputs": [
        {
          "output_type": "stream",
          "name": "stdout",
          "text": [
            "Writing max_pairwise_product_optimized_n.cpp\n"
          ]
        }
      ],
      "source": [
        "%%writefile max_pairwise_product_optimized_n.cpp\n",
        "#include <iostream>\n",
        "#include <chrono>\n",
        "\n",
        "int main() {\n",
        "    int execInstruction = 0;                        // 1 (Inicialización)\n",
        "    long long max1 = -1, max2 = -1;                 // 2 (Inicializaciones)\n",
        "    int n;                                          // 1 (Declaración)\n",
        "    std::cin >> n;                                  // 1 (Lectura de n)\n",
        "    execInstruction += 5;                           // 1 (Sumar instrucciones previas)\n",
        "\n",
        "    auto start = std::chrono::high_resolution_clock::now();   // 1 (Obtener tiempo de inicio)\n",
        "    execInstruction++;                                         // 1 (Sumar instrucción de obtener tiempo)\n",
        "\n",
        "    for(int i = 0; i < n; ++i) {                    // 1 + 2n (Inicialización, comparación e incremento en cada iteración)\n",
        "        long long num;                              // n (Declaración en cada iteración)\n",
        "        std::cin >> num;                            // n (Lectura en cada iteración)\n",
        "        execInstruction += 2;                       // n (Sumar instrucciones de declaración y lectura)\n",
        "\n",
        "        if(num > max1) {                            // n (Comparación en cada iteración)\n",
        "            max2 = max1;                            // [0, n] (Asignación en el peor caso en todas las iteraciones)\n",
        "            max1 = num;                             // [0, n] (Asignación en el peor caso en todas las iteraciones)\n",
        "        } else if(num > max2) {                     // [0, n] (Comparación en el peor caso en todas las iteraciones)\n",
        "            max2 = num;                             // [0, n] (Asignación en el peor caso en todas las iteraciones)\n",
        "        }\n",
        "        execInstruction += 1;                       // n (Sumar instrucciones de comparación)\n",
        "    }\n",
        "\n",
        "    auto stop = std::chrono::high_resolution_clock::now();   // 1 (Obtener tiempo de fin)\n",
        "    execInstruction++;                                       // 1 (Sumar instrucción de obtener tiempo)\n",
        "\n",
        "    auto duration = std::chrono::duration_cast<std::chrono::microseconds>(stop - start).count();  // 1 (Calcular duración)\n",
        "    execInstruction++;                                                                                      // 1 (Sumar instrucción de calcular duración)\n",
        "\n",
        "    std::cout << max1 * max2 << \"\\n\";                       // 1 (Multiplicación y salida)\n",
        "    execInstruction += 1;                                    // 1 (Sumar instrucción de multiplicación y salida)\n",
        "\n",
        "    std::cout << \"Time taken by function: \" << duration << \" microseconds\" << std::endl; // 1\n",
        "    execInstruction += 1;  // for printing duration                                       // 1\n",
        "\n",
        "    std::cout << \"Approximate executed instructions: \" << execInstruction << std::endl; // 1\n",
        "    execInstruction += 1;  // for printing execInstruction                                // 1\n",
        "\n",
        "    std::cout << \"Time per instruction: \" << (double)duration / execInstruction << \" microseconds\" << std::endl; // 1\n",
        "    execInstruction += 1;  // for printing time per instruction                                                  // 1\n",
        "\n",
        "    return 0;\n",
        "}\n",
        "\n"
      ]
    },
    {
      "cell_type": "markdown",
      "metadata": {
        "id": "683gc3roHqzb"
      },
      "source": [
        "Test with inputs 1 and 2\n",
        "\n",
        "\n"
      ]
    },
    {
      "cell_type": "code",
      "execution_count": 167,
      "metadata": {
        "id": "b7d4LA8OIc2_",
        "colab": {
          "base_uri": "https://localhost:8080/"
        },
        "outputId": "61a3c828-4793-4695-eb69-6af6da23594f"
      },
      "outputs": [
        {
          "output_type": "stream",
          "name": "stdout",
          "text": [
            "c++ n\n",
            "120989000\n",
            "Time taken by function: 5597 microseconds\n",
            "Approximate executed instructions: 33010\n",
            "Time per instruction: 0.16955 microseconds\n"
          ]
        }
      ],
      "source": [
        "!echo c++ n\n",
        "!g++ max_pairwise_product_optimized_n.cpp -o max_pairwise_product_optimized_n\n",
        "!./max_pairwise_product_optimized_n< input13.txt"
      ]
    },
    {
      "cell_type": "markdown",
      "metadata": {
        "id": "sy33CNNfPxcE"
      },
      "source": [
        "### Super efficient solution in Python\n",
        "\n",
        "Whitout storing the list in memory and whitout calling a function, add in each line a coment with the number of intstrcution that are executed in that line"
      ]
    },
    {
      "cell_type": "code",
      "execution_count": 168,
      "metadata": {
        "id": "_mOjJwKrPxcJ",
        "colab": {
          "base_uri": "https://localhost:8080/"
        },
        "outputId": "dbc4c5b5-19eb-4dcb-ebe5-dd1868f92254"
      },
      "outputs": [
        {
          "output_type": "stream",
          "name": "stdout",
          "text": [
            "Writing max_pairwise_product_optimized_n.py\n"
          ]
        }
      ],
      "source": [
        "%%writefile max_pairwise_product_optimized_n.py\n",
        "import time\n",
        "\n",
        "exec_instruction = 0  # 1\n",
        "max1, max2 = -1, -1  # 2\n",
        "n = int(input())  # 1\n",
        "exec_instruction += 4  # 1\n",
        "\n",
        "numbers = list(map(int, input().split()))  # 1 + 2n (Crear lista y convertir cada elemento)\n",
        "exec_instruction += 1 + 2 * len(numbers)\n",
        "\n",
        "start_time = time.time()  # 1 (Obtener tiempo de inicio)\n",
        "exec_instruction += 1  # 1\n",
        "\n",
        "for num in numbers:  # 1 + n (Inicialización y comparación en cada iteración)\n",
        "    if num > max1:\n",
        "        max2 = max1\n",
        "        max1 = num\n",
        "    elif num > max2:\n",
        "        max2 = num\n",
        "    exec_instruction += 1  # n\n",
        "\n",
        "end_time = time.time()  # 1 (Obtener tiempo de fin)\n",
        "exec_instruction += 1  # 1 (Sumar instrucción de obtener tiempo)\n",
        "\n",
        "duration = (end_time - start_time) * 1e6  # 1 (Calcular duración en microsegundos)\n",
        "exec_instruction += 1  # 1 (Sumar instrucción de calcular duración)\n",
        "\n",
        "print(max1 * max2)  # 1 (Multiplicación y salida)\n",
        "exec_instruction += 1  # 1 (Sumar instrucción de multiplicación y salida)\n",
        "\n",
        "print(f\"Time taken by function: {duration} microseconds\")  # 1\n",
        "exec_instruction += 1    # 1\n",
        "\n",
        "print(f\"Approximate executed instructions: {exec_instruction}\")  # 1\n",
        "exec_instruction += 1    # 1\n",
        "\n",
        "print(f\"Time per instruction: {duration / exec_instruction} microseconds\")  # 1\n",
        "exec_instruction += 1  # for printing time per instruction  # 1\n"
      ]
    },
    {
      "cell_type": "markdown",
      "metadata": {
        "id": "K08Eow0hPxcJ"
      },
      "source": [
        "Test with inputs 1 and 2\n",
        "\n",
        "\n"
      ]
    },
    {
      "cell_type": "code",
      "execution_count": 169,
      "metadata": {
        "id": "1_mUee2cPxcJ",
        "colab": {
          "base_uri": "https://localhost:8080/"
        },
        "outputId": "61106bba-1618-4dbd-8b0f-27a153d228fc"
      },
      "outputs": [
        {
          "output_type": "stream",
          "name": "stdout",
          "text": [
            "python n\n",
            "120989000\n",
            "Time taken by function: 2459.287643432617 microseconds\n",
            "Approximate executed instructions: 33010\n",
            "Time per instruction: 0.07449903497114953 microseconds\n"
          ]
        }
      ],
      "source": [
        "!echo python n\n",
        "!python max_pairwise_product_optimized_n.py < input13.txt"
      ]
    },
    {
      "cell_type": "markdown",
      "metadata": {
        "id": "R6qeUjPaPxcK"
      },
      "source": [
        "Comparación C++ y Python"
      ]
    },
    {
      "cell_type": "code",
      "execution_count": 170,
      "metadata": {
        "id": "iLdXYvn3PxcK",
        "colab": {
          "base_uri": "https://localhost:8080/"
        },
        "outputId": "3e0b0539-0df3-41aa-89ea-d1822ce72f43"
      },
      "outputs": [
        {
          "output_type": "stream",
          "name": "stdout",
          "text": [
            "c++ n\n",
            "120989000\n",
            "Time taken by function: 5370 microseconds\n",
            "Approximate executed instructions: 33010\n",
            "Time per instruction: 0.162673 microseconds\n",
            "python n\n",
            "120989000\n",
            "Time taken by function: 2386.0931396484375 microseconds\n",
            "Approximate executed instructions: 33010\n",
            "Time per instruction: 0.07228175879702031 microseconds\n"
          ]
        }
      ],
      "source": [
        "!echo c++ n\n",
        "!g++ max_pairwise_product_optimized_n.cpp -o max_pairwise_product_optimized_n\n",
        "!./max_pairwise_product_optimized_n< input13.txt\n",
        "\n",
        "!echo python n\n",
        "!python max_pairwise_product_optimized_n.py < input13.txt"
      ]
    }
  ],
  "metadata": {
    "colab": {
      "provenance": [],
      "include_colab_link": true
    },
    "kernelspec": {
      "display_name": "Python 3",
      "name": "python3"
    },
    "language_info": {
      "name": "python"
    }
  },
  "nbformat": 4,
  "nbformat_minor": 0
}